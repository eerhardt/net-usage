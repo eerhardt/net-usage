{
 "cells": [
  {
   "cell_type": "code",
   "execution_count": null,
   "metadata": {},
   "outputs": [],
   "source": [
    "#r \"nuget:Microsoft.ML.TimeSeries\"\n",
    "#r \"nuget:Microsoft.Data.Analysis\"\n",
    "\n",
    "using Microsoft.Data.Analysis;\n",
    "using Microsoft.ML;\n",
    "using Microsoft.ML.Transforms.TimeSeries;\n",
    "using XPlot.Plotly;"
   ]
  },
  {
   "cell_type": "code",
   "execution_count": null,
   "metadata": {},
   "outputs": [],
   "source": [
    "DataFrame usage = DataFrame.LoadCsv(@\"usage.csv\");\n",
    "\n",
    "// split the data into 2\n",
    "DataFrame coreUsage = new DataFrame(usage.Columns[0], usage.Columns[1]);\n",
    "DataFrame netUsage = new DataFrame(usage.Columns[0], usage.Columns[2]);\n",
    "\n",
    "coreUsage.Columns[1].SetName(\"Usage\");\n",
    "netUsage.Columns[1].SetName(\"Usage\");"
   ]
  },
  {
   "cell_type": "code",
   "execution_count": null,
   "metadata": {},
   "outputs": [],
   "source": [
    "var coreSeries = new Graph.Scattergl\n",
    "{\n",
    "    name = \".NET Core\",\n",
    "    y = coreUsage.Columns[1],\n",
    "    x = coreUsage.Columns[0],\n",
    "};\n",
    "\n",
    "var netSeries = new Graph.Scattergl\n",
    "{\n",
    "    name = \".NET Framework\",\n",
    "    y = netUsage.Columns[1],\n",
    "    x = netUsage.Columns[0],\n",
    "};\n",
    "\n",
    "var chart = Chart.Plot(new[] {coreSeries, netSeries});\n",
    "chart.WithTitle(\".NET Core vs Framework Usage Current\");\n",
    "display(chart);"
   ]
  },
  {
   "cell_type": "code",
   "execution_count": null,
   "metadata": {},
   "outputs": [],
   "source": [
    "/// <summary>\n",
    "/// This is the input of the scored time series model, the past data.\n",
    "/// </summary>\n",
    "public class UsageData\n",
    "{\n",
    "    public float Usage { get; set; }\n",
    "}\n",
    "\n",
    "/// <summary>\n",
    "/// This is the output of the scored time series model, the prediction.\n",
    "/// </summary>\n",
    "public class UsagePrediction\n",
    "{\n",
    "    public float[] ForecastedUsage { get; set; }\n",
    "\n",
    "    public float[] ConfidenceLowerBound { get; set; }\n",
    "\n",
    "    public float[] ConfidenceUpperBound { get; set; }\n",
    "}\n",
    "\n",
    "var numSeriesDataPoints = (int)usage.Rows.Count;\n",
    "\n",
    "var mlContext = new MLContext();\n",
    "IEstimator<ITransformer> forecastEstimator = mlContext.Forecasting.ForecastBySsa(\n",
    "    outputColumnName: nameof(UsagePrediction.ForecastedUsage), \n",
    "    inputColumnName: nameof(UsageData.Usage), // This is the column being forecasted.\n",
    "    windowSize: 6, // Window size is set to the time period represented in the product data cycle; our product cycle is based on 12 months, so this is set to a factor of 12, e.g. 3.\n",
    "    seriesLength: numSeriesDataPoints, // This parameter specifies the number of data points that are used when performing a forecast.\n",
    "    trainSize: numSeriesDataPoints, // This parameter specifies the total number of data points in the input time series, starting from the beginning.\n",
    "    horizon: 25, // Indicates the number of values to forecast; 2 indicates that the next 2 months of product units will be forecasted.\n",
    "    confidenceLevel: 0.95f, // Indicates the likelihood the real observed value will fall within the specified interval bounds.\n",
    "    confidenceLowerBoundColumn: nameof(UsagePrediction.ConfidenceLowerBound), //This is the name of the column that will be used to store the lower interval bound for each forecasted value.\n",
    "    confidenceUpperBoundColumn: nameof(UsagePrediction.ConfidenceUpperBound)); //This is the name of the column that will be used to store the upper interval bound for each forecasted value.\n",
    "\n",
    "// Fit the forecasting model to the specified product's data series.\n",
    "ITransformer coreUsageForecastTransformer = forecastEstimator.Fit(coreUsage);\n",
    "var coreForecastEngine = coreUsageForecastTransformer.CreateTimeSeriesEngine<UsageData, UsagePrediction>(mlContext);\n",
    "var coreUsageEstimation = coreForecastEngine.Predict();\n",
    "\n",
    "ITransformer netUsageForecastTransformer = forecastEstimator.Fit(netUsage);\n",
    "var netForecastEngine = netUsageForecastTransformer.CreateTimeSeriesEngine<UsageData, UsagePrediction>(mlContext);\n",
    "var netUsageEstimation = netForecastEngine.Predict();"
   ]
  },
  {
   "cell_type": "code",
   "execution_count": null,
   "metadata": {},
   "outputs": [],
   "source": [
    "var coreSeries = new Graph.Scattergl\n",
    "{\n",
    "    name = \".NET Core\",\n",
    "    y = coreUsageEstimation.ForecastedUsage,\n",
    "    x = Enumerable.Range(0, 24)\n",
    "};\n",
    "\n",
    "var netSeries = new Graph.Scattergl\n",
    "{\n",
    "    name = \".NET Framework\",\n",
    "    y = netUsageEstimation.ForecastedUsage,\n",
    "    x = Enumerable.Range(0, 24)\n",
    "};\n",
    "\n",
    "var chart = Chart.Plot(new[] {coreSeries, netSeries});\n",
    "chart.WithTitle(\".NET Core vs Framework Usage Forecast\");\n",
    "display(chart);"
   ]
  }
 ],
 "metadata": {
  "kernelspec": {
   "display_name": ".NET (C#)",
   "language": "C#",
   "name": ".net-csharp"
  },
  "language_info": {
   "file_extension": ".cs",
   "mimetype": "text/x-csharp",
   "name": "C#",
   "pygments_lexer": "csharp",
   "version": "8.0"
  }
 },
 "nbformat": 4,
 "nbformat_minor": 4
}
